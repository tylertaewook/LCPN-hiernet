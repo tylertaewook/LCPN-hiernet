{
  "cells": [
    {
      "cell_type": "code",
      "execution_count": 1,
      "metadata": {
        "_cell_guid": "b1076dfc-b9ad-4769-8c92-a6c4dae69d19",
        "_uuid": "8f2839f25d086af736a60e9eeb907d3b93b6e0e5",
        "id": "7rV9Ad8Xbi3J",
        "trusted": true
      },
      "outputs": [
        {
          "name": "stderr",
          "output_type": "stream",
          "text": [
            "/root/fashion-effnet/venv/lib/python3.7/site-packages/tqdm/auto.py:22: TqdmWarning: IProgress not found. Please update jupyter and ipywidgets. See https://ipywidgets.readthedocs.io/en/stable/user_install.html\n",
            "  from .autonotebook import tqdm as notebook_tqdm\n"
          ]
        }
      ],
      "source": [
        "import pickle\n",
        "import numpy as np\n",
        "import numpy as np\n",
        "import cv2\n",
        "import torch\n",
        "from torch import nn\n",
        "import matplotlib.pyplot as plt"
      ]
    },
    {
      "cell_type": "code",
      "execution_count": 2,
      "metadata": {},
      "outputs": [],
      "source": [
        "MODEL_PATH = \"../trained_models/watches_acc_96\""
      ]
    },
    {
      "cell_type": "code",
      "execution_count": 3,
      "metadata": {
        "id": "POL71mXujv10"
      },
      "outputs": [],
      "source": [
        "from PIL import Image\n",
        "import numpy as np\n",
        "import cv2\n",
        "def predict(modelpath, image, transforms, encoder):\n",
        "    print(\"Loading model.pth...\")\n",
        "    model = torch.load(modelpath + '/model.pth')\n",
        "    model.eval()\n",
        "    if(isinstance(image,np.ndarray)):\n",
        "      image = Image.fromarray(image)\n",
        "    if(transforms!=None):\n",
        "        image = transforms(image)\n",
        "    data = image.expand(1,-1,-1,-1)\n",
        "    device = torch.device(\"cuda\" if torch.cuda.is_available() else \"cpu\")\n",
        "    print(\"Forward Passing...\")\n",
        "    data = data.type(torch.FloatTensor).to(device)\n",
        "    sm = nn.Softmax(dim = 1)\n",
        "    output = model(data)\n",
        "    output = sm(output)\n",
        "    print(\"Predicting Label...\")\n",
        "    _, preds = torch.max(output, 1)\n",
        "\n",
        "    pred_label = encoder[preds.cpu().detach().numpy()[0]]\n",
        "    return pred_label\n",
        "def prediction_bar(output,encoder):\n",
        "    output = output.cpu().detach().numpy()\n",
        "    a = output.argsort()\n",
        "    a = a[0]\n",
        "    \n",
        "    size = len(a)\n",
        "    if(size>5):\n",
        "        a = np.flip(a[-5:])\n",
        "    else:\n",
        "        a = np.flip(a[-1*size:])\n",
        "    prediction = list()\n",
        "    clas = list()\n",
        "    for i in a:\n",
        "      prediction.append(float(output[:,i]*100))\n",
        "      clas.append(str(i))\n",
        "    for i in a:\n",
        "        print('Class: {} , confidence: {}'.format(encoder[int(i)],float(output[:,i]*100)))\n",
        "    plt.bar(clas,prediction)\n",
        "    plt.title(\"Confidence score bar graph\")\n",
        "    plt.xlabel(\"Confidence score\")\n",
        "    plt.ylabel(\"Class number\")\n",
        " \n",
        "def img_plot(image,inv_normalize = None):\n",
        "    if(inv_normalize!=None):\n",
        "        image = inv_normalize(image)\n",
        "    image = image.cpu().numpy().transpose(1,2,0)\n",
        "    plt.imshow(image)\n",
        "    plt.show()\n"
      ]
    },
    {
      "cell_type": "code",
      "execution_count": 4,
      "metadata": {
        "id": "yMGz4eMnp1Vg"
      },
      "outputs": [],
      "source": [
        "image = cv2.imread('../sample_images/watch_codecoco.jpg')"
      ]
    },
    {
      "cell_type": "code",
      "execution_count": 5,
      "metadata": {},
      "outputs": [
        {
          "name": "stdout",
          "output_type": "stream",
          "text": [
            "=======Phase 1: Parent Class Prediction========\n",
            "Loading pkl files...\n",
            "ENCODER:  {0: 'accessories', 1: 'bags', 2: 'cosmetics', 3: 'perfume', 4: 'wallets', 5: 'watches'}\n",
            "Loading model.pth...\n",
            "Forward Passing...\n",
            "Predicting Label...\n",
            "Parent class prediction:  accessories\n",
            "=======Phase 2: Child Class Prediction========\n",
            "Loading pkl files...\n",
            "ENCODER:  {0: 'access_belts', 1: 'access_buttonjewelry', 2: 'access_cococrush', 3: 'access_gloves', 4: 'access_hairclip', 5: 'access_headwear', 6: 'access_paperbag', 7: 'access_scarves'}\n",
            "Loading model.pth...\n",
            "Forward Passing...\n",
            "Predicting Label...\n",
            "Final Prediction:  access_cococrush\n"
          ]
        }
      ],
      "source": [
        "print(\"=======Phase 1: Parent Class Prediction========\")\n",
        "modelpath = \"../trained_models/meta\"\n",
        "\n",
        "print(\"Loading pkl files...\")\n",
        "with open(modelpath + \"/bin/encoder.pickle\", 'rb') as fr:\n",
        "    encoder = pickle.load(fr)\n",
        "with open(modelpath + \"/bin/test_transforms.pickle\", 'rb') as fr:\n",
        "    transforms = pickle.load(fr)\n",
        "with open(modelpath + \"/bin/inv_normalize.pickle\", 'rb') as fr:\n",
        "    inv_normalize = pickle.load(fr)\n",
        "print(\"ENCODER: \", encoder)\n",
        "parent_pred_label = predict(modelpath, image, transforms, encoder)\n",
        "\n",
        "parent_pred_class = parent_pred_label.split('_', 1)[0].replace('.', '') # watch, cosm, perf, etc.\n",
        "\n",
        "print(\"Parent class prediction: \", parent_pred_class)\n",
        "child_modelpath = \"../trained_models/\" + parent_pred_class\n",
        "print(\"=======Phase 2: Child Class Prediction========\")\n",
        "\n",
        "print(\"Loading pkl files...\")\n",
        "with open(child_modelpath + \"/bin/encoder.pickle\", 'rb') as fr:\n",
        "    encoder = pickle.load(fr)\n",
        "with open(child_modelpath + \"/bin/test_transforms.pickle\", 'rb') as fr:\n",
        "    transforms = pickle.load(fr)\n",
        "with open(child_modelpath + \"/bin/inv_normalize.pickle\", 'rb') as fr:\n",
        "    inv_normalize = pickle.load(fr)\n",
        "print(\"ENCODER: \", encoder)\n",
        "child_pred_label = predict(child_modelpath, image, transforms, encoder)\n",
        "\n",
        "\n",
        "print(\"Final Prediction: \", child_pred_label)"
      ]
    },
    {
      "cell_type": "code",
      "execution_count": null,
      "metadata": {},
      "outputs": [],
      "source": []
    }
  ],
  "metadata": {
    "accelerator": "GPU",
    "colab": {
      "name": "Pytorch transfer learning tutorial [93%acc].ipynb",
      "provenance": []
    },
    "kernelspec": {
      "display_name": "Python 3.7.13 ('venv': venv)",
      "language": "python",
      "name": "python3"
    },
    "language_info": {
      "codemirror_mode": {
        "name": "ipython",
        "version": 3
      },
      "file_extension": ".py",
      "mimetype": "text/x-python",
      "name": "python",
      "nbconvert_exporter": "python",
      "pygments_lexer": "ipython3",
      "version": "3.7.13"
    },
    "vscode": {
      "interpreter": {
        "hash": "1514da5573d7446116e9fb3acff21fc808b0c8a293288e2b325a282fc5fd9f98"
      }
    }
  },
  "nbformat": 4,
  "nbformat_minor": 0
}
