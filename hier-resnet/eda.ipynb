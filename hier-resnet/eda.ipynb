{
 "cells": [
  {
   "cell_type": "code",
   "execution_count": 7,
   "metadata": {},
   "outputs": [
    {
     "name": "stderr",
     "output_type": "stream",
     "text": [
      "/root/fashion-effnet/venv/lib/python3.7/site-packages/tqdm/auto.py:22: TqdmWarning: IProgress not found. Please update jupyter and ipywidgets. See https://ipywidgets.readthedocs.io/en/stable/user_install.html\n",
      "  from .autonotebook import tqdm as notebook_tqdm\n"
     ]
    }
   ],
   "source": [
    "from helper import read_meta\n",
    "import pickle"
   ]
  },
  {
   "cell_type": "markdown",
   "metadata": {},
   "source": [
    "## Create \"chanel-meta\" file for chanelset"
   ]
  },
  {
   "cell_type": "code",
   "execution_count": 14,
   "metadata": {},
   "outputs": [],
   "source": [
    "chanel_meta = {\"coarse_label_names\": [\n",
    "    'bags',\n",
    "    'cosmetics',\n",
    "    'perfumes',\n",
    "    'watches'\n",
    "    ],\n",
    "    \"fine_label_names\": [\n",
    "    '2.55',\n",
    "    '19',\n",
    "    '22',\n",
    "    'boy',\n",
    "    'gabrielle',\n",
    "    'timeless',\n",
    "    'eyeshadow',\n",
    "    'lipstick',\n",
    "    'mascara',\n",
    "    'nail_color',\n",
    "    'allure',\n",
    "    'bleu_de_chanel',\n",
    "    'chance',\n",
    "    'coco_mademoiselle',\n",
    "    'no5',\n",
    "    'boyfriend',\n",
    "    'code_coco',\n",
    "    'j12',\n",
    "    'premiere',\n",
    "    ]}"
   ]
  },
  {
   "cell_type": "code",
   "execution_count": 15,
   "metadata": {},
   "outputs": [],
   "source": [
    "with open('./dataset/pickle_files/chanel_meta', 'wb') as f:\n",
    "    pickle.dump(chanel_meta, f)"
   ]
  },
  {
   "cell_type": "code",
   "execution_count": 13,
   "metadata": {},
   "outputs": [
    {
     "name": "stdout",
     "output_type": "stream",
     "text": [
      "{'coarse_label_names': ['bags', 'cosmetics', 'perfumes', 'watches'], 'fine_label_names': ['2.55', '19', '22', 'boygabrielle', 'timeless', 'eyeshadow', 'lipstick', 'mascara', 'nail_color', 'allure', 'bleu_de_chanel', 'chance', 'coco_mademoiselle', 'no5', 'boyfriend', 'code_coco', 'j12', 'premiere']}\n"
     ]
    }
   ],
   "source": [
    "coarse_labels, fine_labels = read_meta('./dataset/pickle_files/chanel_meta')"
   ]
  },
  {
   "cell_type": "markdown",
   "metadata": {},
   "source": [
    "## Split data & Generate train.csv & test.csv"
   ]
  },
  {
   "cell_type": "code",
   "execution_count": 1,
   "metadata": {},
   "outputs": [],
   "source": [
    "import os\n",
    "import csv"
   ]
  },
  {
   "cell_type": "code",
   "execution_count": 2,
   "metadata": {},
   "outputs": [],
   "source": [
    "\n",
    "def generate_dataset_csv(rootdir='./chanelset_split/train', filename='train'):\n",
    "    data = []\n",
    "    for subdir, dirs, files in os.walk(rootdir):\n",
    "        for file in files:\n",
    "            filepath = os.path.join(subdir, file)\n",
    "            super_dir = os.path.basename(os.path.dirname(os.path.dirname(filepath)))\n",
    "            sub_dir = os.path.basename(os.path.dirname(filepath))\n",
    "            row = [os.path.join(subdir, file), super_dir, sub_dir]\n",
    "            data.append(row)\n",
    "\n",
    "    with open(f'./{filename}.csv', 'w', encoding='UTF8') as f:\n",
    "        writer = csv.writer(f)\n",
    "        writer.writerows(data)"
   ]
  },
  {
   "cell_type": "code",
   "execution_count": 4,
   "metadata": {},
   "outputs": [],
   "source": [
    "generate_dataset_csv(rootdir='./chanelset_split/train', filename='train')\n",
    "generate_dataset_csv(rootdir='./chanelset_split/test', filename='test')"
   ]
  },
  {
   "cell_type": "code",
   "execution_count": 1,
   "metadata": {},
   "outputs": [],
   "source": [
    "import csv"
   ]
  },
  {
   "cell_type": "code",
   "execution_count": 2,
   "metadata": {},
   "outputs": [],
   "source": [
    "with open('./dataset/train.csv', newline='') as f:\n",
    "    reader = csv.reader(f)\n",
    "    data = list(reader)"
   ]
  },
  {
   "cell_type": "code",
   "execution_count": 6,
   "metadata": {},
   "outputs": [],
   "source": [
    "image_path, superclass, subclass = data[9]"
   ]
  },
  {
   "cell_type": "code",
   "execution_count": 9,
   "metadata": {},
   "outputs": [
    {
     "data": {
      "text/plain": [
       "'bleu_de_chanel'"
      ]
     },
     "execution_count": 9,
     "metadata": {},
     "output_type": "execute_result"
    }
   ],
   "source": [
    "subclass"
   ]
  },
  {
   "cell_type": "markdown",
   "metadata": {},
   "source": []
  }
 ],
 "metadata": {
  "interpreter": {
   "hash": "1514da5573d7446116e9fb3acff21fc808b0c8a293288e2b325a282fc5fd9f98"
  },
  "kernelspec": {
   "display_name": "Python 3.7.13 ('venv': venv)",
   "language": "python",
   "name": "python3"
  },
  "language_info": {
   "codemirror_mode": {
    "name": "ipython",
    "version": 3
   },
   "file_extension": ".py",
   "mimetype": "text/x-python",
   "name": "python",
   "nbconvert_exporter": "python",
   "pygments_lexer": "ipython3",
   "version": "3.7.13"
  },
  "orig_nbformat": 4
 },
 "nbformat": 4,
 "nbformat_minor": 2
}
