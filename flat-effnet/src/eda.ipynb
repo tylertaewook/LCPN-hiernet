{
  "cells": [
    {
      "cell_type": "code",
      "execution_count": 1,
      "metadata": {},
      "outputs": [],
      "source": [
        "import pandas as pd\n",
        "\n",
        "df = pd.read_csv(\"../csv/sample.csv\")\n",
        "\n",
        "# len(df)"
      ]
    },
    {
      "cell_type": "code",
      "execution_count": 2,
      "metadata": {},
      "outputs": [
        {
          "data": {
            "text/html": [
              "<div>\n",
              "<style scoped>\n",
              "    .dataframe tbody tr th:only-of-type {\n",
              "        vertical-align: middle;\n",
              "    }\n",
              "\n",
              "    .dataframe tbody tr th {\n",
              "        vertical-align: top;\n",
              "    }\n",
              "\n",
              "    .dataframe thead th {\n",
              "        text-align: right;\n",
              "    }\n",
              "</style>\n",
              "<table border=\"1\" class=\"dataframe\">\n",
              "  <thead>\n",
              "    <tr style=\"text-align: right;\">\n",
              "      <th></th>\n",
              "      <th>Unnamed: 0</th>\n",
              "      <th>TITLE</th>\n",
              "      <th>IMAGE_URL</th>\n",
              "      <th>product_type_code</th>\n",
              "      <th>PRODUCT_FOCUS</th>\n",
              "      <th>set</th>\n",
              "      <th>id</th>\n",
              "    </tr>\n",
              "  </thead>\n",
              "  <tbody>\n",
              "    <tr>\n",
              "      <th>0</th>\n",
              "      <td>0</td>\n",
              "      <td>샤넬 메탈밴드시계 프리미에르 검판 은장 체인</td>\n",
              "      <td>http://res.faikerz.com/Files/TextWatch/204/202...</td>\n",
              "      <td>5.0</td>\n",
              "      <td>2.0</td>\n",
              "      <td>train</td>\n",
              "      <td>6d80e40419e44548957e795cf689ad71</td>\n",
              "    </tr>\n",
              "    <tr>\n",
              "      <th>1</th>\n",
              "      <td>1</td>\n",
              "      <td>샤넬 크로스백 클래식 WOC 램스킨 금장</td>\n",
              "      <td>http://res.faikerz.com/Files/TextWatch/204/202...</td>\n",
              "      <td>2.0</td>\n",
              "      <td>5.0</td>\n",
              "      <td>train</td>\n",
              "      <td>02fd2f20e75e444c8a2c72e928b6d852</td>\n",
              "    </tr>\n",
              "    <tr>\n",
              "      <th>2</th>\n",
              "      <td>2</td>\n",
              "      <td>샤넬 클래식 참 장식 숄더백 미듐</td>\n",
              "      <td>http://res.faikerz.com/Files/TextWatch/204/202...</td>\n",
              "      <td>2.0</td>\n",
              "      <td>5.0</td>\n",
              "      <td>train</td>\n",
              "      <td>ba4a4e3f1d964a60a06e22dfce07bee0</td>\n",
              "    </tr>\n",
              "    <tr>\n",
              "      <th>3</th>\n",
              "      <td>3</td>\n",
              "      <td>샤넬 19 플랩백 스몰</td>\n",
              "      <td>http://res.faikerz.com/Files/TextWatch/204/202...</td>\n",
              "      <td>2.0</td>\n",
              "      <td>7.0</td>\n",
              "      <td>train</td>\n",
              "      <td>00dcd87682fd402a889eae83003d6466</td>\n",
              "    </tr>\n",
              "    <tr>\n",
              "      <th>4</th>\n",
              "      <td>4</td>\n",
              "      <td>샤넬 클래식 25 램스킨 은장</td>\n",
              "      <td>http://res.faikerz.com/Files/TextWatch/204/202...</td>\n",
              "      <td>2.0</td>\n",
              "      <td>5.0</td>\n",
              "      <td>train</td>\n",
              "      <td>6f1487701f834aedac86f9134918b8b5</td>\n",
              "    </tr>\n",
              "    <tr>\n",
              "      <th>...</th>\n",
              "      <td>...</td>\n",
              "      <td>...</td>\n",
              "      <td>...</td>\n",
              "      <td>...</td>\n",
              "      <td>...</td>\n",
              "      <td>...</td>\n",
              "      <td>...</td>\n",
              "    </tr>\n",
              "    <tr>\n",
              "      <th>6692</th>\n",
              "      <td>6692</td>\n",
              "      <td>(LM)C H A N E L 클래식 카드지갑 / 똑딱이 뒷포켓 AP0214</td>\n",
              "      <td>http://res.faikerz.com/Files/TextWatch/204/202...</td>\n",
              "      <td>2.0</td>\n",
              "      <td>5.0</td>\n",
              "      <td>train</td>\n",
              "      <td>1ebd5c891158487f8062da7a969a87ad</td>\n",
              "    </tr>\n",
              "    <tr>\n",
              "      <th>6693</th>\n",
              "      <td>6693</td>\n",
              "      <td>(LM)C H A N E L 클래식 클러치 뉴미듐 A82545</td>\n",
              "      <td>http://res.faikerz.com/Files/TextWatch/204/202...</td>\n",
              "      <td>2.0</td>\n",
              "      <td>5.0</td>\n",
              "      <td>train</td>\n",
              "      <td>1db541b8be9a4ba79bbe895e1a4b1292</td>\n",
              "    </tr>\n",
              "    <tr>\n",
              "      <th>6694</th>\n",
              "      <td>6694</td>\n",
              "      <td>(LM)C H A N E L 벨크로샌들 블루 벨벳 G35927</td>\n",
              "      <td>http://res.faikerz.com/Files/TextWatch/204/202...</td>\n",
              "      <td>3.0</td>\n",
              "      <td>NaN</td>\n",
              "      <td>train</td>\n",
              "      <td>af4233d0112845e3b665308b19f4c063</td>\n",
              "    </tr>\n",
              "    <tr>\n",
              "      <th>6695</th>\n",
              "      <td>6695</td>\n",
              "      <td>(LM)C H A N E L 가브리엘 호보백 스몰 A91810</td>\n",
              "      <td>http://res.faikerz.com/Files/TextWatch/204/202...</td>\n",
              "      <td>2.0</td>\n",
              "      <td>3.0</td>\n",
              "      <td>train</td>\n",
              "      <td>39086ba019a749febc7b129d4f82854f</td>\n",
              "    </tr>\n",
              "    <tr>\n",
              "      <th>6696</th>\n",
              "      <td>6696</td>\n",
              "      <td>(LM)C H A N E L 클래식 플랩백 미듐 사이즈 A01112</td>\n",
              "      <td>http://res.faikerz.com/Files/TextWatch/204/202...</td>\n",
              "      <td>2.0</td>\n",
              "      <td>5.0</td>\n",
              "      <td>train</td>\n",
              "      <td>b3db198b2267460ebd3f2e5edeb46ba1</td>\n",
              "    </tr>\n",
              "  </tbody>\n",
              "</table>\n",
              "<p>6697 rows × 7 columns</p>\n",
              "</div>"
            ],
            "text/plain": [
              "      Unnamed: 0                                      TITLE  \\\n",
              "0              0                   샤넬 메탈밴드시계 프리미에르 검판 은장 체인   \n",
              "1              1                     샤넬 크로스백 클래식 WOC 램스킨 금장   \n",
              "2              2                         샤넬 클래식 참 장식 숄더백 미듐   \n",
              "3              3                               샤넬 19 플랩백 스몰   \n",
              "4              4                           샤넬 클래식 25 램스킨 은장   \n",
              "...          ...                                        ...   \n",
              "6692        6692  (LM)C H A N E L 클래식 카드지갑 / 똑딱이 뒷포켓 AP0214   \n",
              "6693        6693         (LM)C H A N E L 클래식 클러치 뉴미듐 A82545   \n",
              "6694        6694         (LM)C H A N E L 벨크로샌들 블루 벨벳 G35927   \n",
              "6695        6695         (LM)C H A N E L 가브리엘 호보백 스몰 A91810   \n",
              "6696        6696      (LM)C H A N E L 클래식 플랩백 미듐 사이즈 A01112   \n",
              "\n",
              "                                              IMAGE_URL  product_type_code  \\\n",
              "0     http://res.faikerz.com/Files/TextWatch/204/202...                5.0   \n",
              "1     http://res.faikerz.com/Files/TextWatch/204/202...                2.0   \n",
              "2     http://res.faikerz.com/Files/TextWatch/204/202...                2.0   \n",
              "3     http://res.faikerz.com/Files/TextWatch/204/202...                2.0   \n",
              "4     http://res.faikerz.com/Files/TextWatch/204/202...                2.0   \n",
              "...                                                 ...                ...   \n",
              "6692  http://res.faikerz.com/Files/TextWatch/204/202...                2.0   \n",
              "6693  http://res.faikerz.com/Files/TextWatch/204/202...                2.0   \n",
              "6694  http://res.faikerz.com/Files/TextWatch/204/202...                3.0   \n",
              "6695  http://res.faikerz.com/Files/TextWatch/204/202...                2.0   \n",
              "6696  http://res.faikerz.com/Files/TextWatch/204/202...                2.0   \n",
              "\n",
              "      PRODUCT_FOCUS    set                                id  \n",
              "0               2.0  train  6d80e40419e44548957e795cf689ad71  \n",
              "1               5.0  train  02fd2f20e75e444c8a2c72e928b6d852  \n",
              "2               5.0  train  ba4a4e3f1d964a60a06e22dfce07bee0  \n",
              "3               7.0  train  00dcd87682fd402a889eae83003d6466  \n",
              "4               5.0  train  6f1487701f834aedac86f9134918b8b5  \n",
              "...             ...    ...                               ...  \n",
              "6692            5.0  train  1ebd5c891158487f8062da7a969a87ad  \n",
              "6693            5.0  train  1db541b8be9a4ba79bbe895e1a4b1292  \n",
              "6694            NaN  train  af4233d0112845e3b665308b19f4c063  \n",
              "6695            3.0  train  39086ba019a749febc7b129d4f82854f  \n",
              "6696            5.0  train  b3db198b2267460ebd3f2e5edeb46ba1  \n",
              "\n",
              "[6697 rows x 7 columns]"
            ]
          },
          "execution_count": 2,
          "metadata": {},
          "output_type": "execute_result"
        }
      ],
      "source": [
        "df"
      ]
    },
    {
      "cell_type": "code",
      "execution_count": 39,
      "metadata": {},
      "outputs": [],
      "source": [
        "df = pd.read_csv('../csv/bags.csv')"
      ]
    },
    {
      "cell_type": "code",
      "execution_count": 43,
      "metadata": {},
      "outputs": [
        {
          "data": {
            "text/plain": [
              "Int64Index([1641, 2420, 2737, 2167, 1358, 2349, 1495, 3441, 1941, 4399,\n",
              "            ...\n",
              "            2343, 4101, 2296, 2757, 3447, 3498, 3381, 4208, 1785, 3109],\n",
              "           dtype='int64', length=438)"
            ]
          },
          "execution_count": 43,
          "metadata": {},
          "output_type": "execute_result"
        }
      ],
      "source": [
        "# test=df.sample(frac=0.1,random_state=1221)\n",
        "test = df.groupby([\"product_type_code\", \"PRODUCT_FOCUS\"]).sample(frac=0.1, random_state=1221)\n",
        "# train=df.drop(test.index)\n",
        "# test.index"
      ]
    },
    {
      "cell_type": "code",
      "execution_count": 41,
      "metadata": {},
      "outputs": [],
      "source": [
        "test['set'] = 'test'\n",
        "df.loc[test.index,'set'] = 'test'"
      ]
    },
    {
      "cell_type": "code",
      "execution_count": null,
      "metadata": {},
      "outputs": [],
      "source": [
        "df"
      ]
    },
    {
      "cell_type": "code",
      "execution_count": 42,
      "metadata": {},
      "outputs": [],
      "source": [
        "df.to_csv('../csv/bags_split.csv')"
      ]
    },
    {
      "cell_type": "code",
      "execution_count": 12,
      "metadata": {},
      "outputs": [
        {
          "data": {
            "text/plain": [
              "product_type_code  PRODUCT_FOCUS\n",
              "2.0                1.0               106\n",
              "                   2.0               472\n",
              "                   3.0              1547\n",
              "                   4.0                 4\n",
              "                   5.0              1189\n",
              "                   6.0               392\n",
              "                   7.0               436\n",
              "                   8.0               227\n",
              "5.0                1.0                55\n",
              "                   2.0                45\n",
              "                   3.0                37\n",
              "Name: TITLE, dtype: int64"
            ]
          },
          "execution_count": 12,
          "metadata": {},
          "output_type": "execute_result"
        }
      ],
      "source": [
        "df.groupby([\"product_type_code\", \"PRODUCT_FOCUS\"])[\"TITLE\"].count()"
      ]
    },
    {
      "cell_type": "code",
      "execution_count": 9,
      "metadata": {},
      "outputs": [
        {
          "data": {
            "text/plain": [
              "product_type_code\n",
              "1.0     722\n",
              "2.0    4510\n",
              "3.0     484\n",
              "4.0     803\n",
              "5.0     141\n",
              "6.0      11\n",
              "Name: TITLE, dtype: int64"
            ]
          },
          "execution_count": 9,
          "metadata": {},
          "output_type": "execute_result"
        }
      ],
      "source": [
        "df.groupby([\"product_type_code\"])[\"TITLE\"].count()"
      ]
    },
    {
      "cell_type": "code",
      "execution_count": 1,
      "metadata": {},
      "outputs": [
        {
          "name": "stderr",
          "output_type": "stream",
          "text": [
            "/root/fashion-effnet/venv/lib/python3.7/site-packages/tqdm/auto.py:22: TqdmWarning: IProgress not found. Please update jupyter and ipywidgets. See https://ipywidgets.readthedocs.io/en/stable/user_install.html\n",
            "  from .autonotebook import tqdm as notebook_tqdm\n",
            "usage: ipykernel_launcher.py [-h] [-b BATCHSIZE] [-i IMAGESIZE]\n",
            "ipykernel_launcher.py: error: unrecognized arguments: --ip=127.0.0.1 --stdin=9063 --control=9061 --hb=9060 --Session.signature_scheme=\"hmac-sha256\" --Session.key=b\"f4c4820b-fa2a-4590-b440-43f8e54fa5ab\" --shell=9062 --transport=\"tcp\" --iopub=9064 --f=/root/.local/share/jupyter/runtime/kernel-31543YqXqwl2sw6QB.json\n"
          ]
        },
        {
          "ename": "SystemExit",
          "evalue": "2",
          "output_type": "error",
          "traceback": [
            "An exception has occurred, use %tb to see the full traceback.\n",
            "\u001b[0;31mSystemExit\u001b[0m\u001b[0;31m:\u001b[0m 2\n"
          ]
        },
        {
          "name": "stderr",
          "output_type": "stream",
          "text": [
            "/root/fashion-effnet/venv/lib/python3.7/site-packages/IPython/core/interactiveshell.py:3532: UserWarning: To exit: use 'exit', 'quit', or Ctrl-D.\n",
            "  warn(\"To exit: use 'exit', 'quit', or Ctrl-D.\", stacklevel=1)\n"
          ]
        }
      ],
      "source": [
        "import numpy as np\n",
        "import pickle\n",
        "\n",
        "import torch\n",
        "import torchvision\n",
        "\n",
        "import torch.nn as nn\n",
        "import torch.optim as optim\n",
        "\n",
        "from torchvision import transforms\n",
        "from torch.utils.data import DataLoader\n",
        "from lr_finder import LRFinder\n",
        "\n",
        "import argparse\n",
        "\n",
        "from datasets import normalization_parameter, data_loader\n",
        "from model import Classifier\n",
        "from train import train_model\n",
        "from utils import class_plot\n",
        "import os"
      ]
    },
    {
      "cell_type": "code",
      "execution_count": 3,
      "metadata": {},
      "outputs": [],
      "source": [
        "train_transforms = transforms.Compose(\n",
        "        [\n",
        "            transforms.Resize((150, 150)),\n",
        "            transforms.RandomResizedCrop(size=315, scale=(0.95, 1.0)),\n",
        "            transforms.RandomRotation(degrees=10),\n",
        "            transforms.RandomHorizontalFlip(),\n",
        "            transforms.CenterCrop(size=299),  # Image net standards\n",
        "            transforms.ToTensor(),\n",
        "        ]\n",
        "    )"
      ]
    },
    {
      "cell_type": "code",
      "execution_count": 4,
      "metadata": {},
      "outputs": [],
      "source": [
        "train_data = torchvision.datasets.ImageFolder(\n",
        "        root=\"../input/train\", transform=train_transforms\n",
        "    )"
      ]
    },
    {
      "cell_type": "code",
      "execution_count": 8,
      "metadata": {},
      "outputs": [],
      "source": [
        "classes=train_data.classes"
      ]
    },
    {
      "cell_type": "code",
      "execution_count": 9,
      "metadata": {},
      "outputs": [],
      "source": [
        "decoder = {}\n",
        "for i in range(len(classes)):\n",
        "    decoder[classes[i]] = i"
      ]
    },
    {
      "cell_type": "code",
      "execution_count": 10,
      "metadata": {},
      "outputs": [
        {
          "data": {
            "text/plain": [
              "{'19': 0,\n",
              " '2.55': 1,\n",
              " '22': 2,\n",
              " 'allure': 3,\n",
              " 'bleu_de_chanel': 4,\n",
              " 'boy': 5,\n",
              " 'boyfriend': 6,\n",
              " 'chance': 7,\n",
              " 'coco_mademoiselle': 8,\n",
              " 'code_coco': 9,\n",
              " 'eyeshadow': 10,\n",
              " 'gabrielle': 11,\n",
              " 'j12': 12,\n",
              " 'lipstick': 13,\n",
              " 'mascara': 14,\n",
              " 'nail_color': 15,\n",
              " 'no5': 16,\n",
              " 'premiere': 17,\n",
              " 'timeless': 18}"
            ]
          },
          "execution_count": 10,
          "metadata": {},
          "output_type": "execute_result"
        }
      ],
      "source": [
        "decoder"
      ]
    },
    {
      "cell_type": "code",
      "execution_count": 11,
      "metadata": {},
      "outputs": [],
      "source": [
        "encoder = {}\n",
        "for i in range(len(classes)):\n",
        "    encoder[i] = classes[i]"
      ]
    },
    {
      "cell_type": "code",
      "execution_count": 12,
      "metadata": {},
      "outputs": [
        {
          "data": {
            "text/plain": [
              "{0: '19',\n",
              " 1: '2.55',\n",
              " 2: '22',\n",
              " 3: 'allure',\n",
              " 4: 'bleu_de_chanel',\n",
              " 5: 'boy',\n",
              " 6: 'boyfriend',\n",
              " 7: 'chance',\n",
              " 8: 'coco_mademoiselle',\n",
              " 9: 'code_coco',\n",
              " 10: 'eyeshadow',\n",
              " 11: 'gabrielle',\n",
              " 12: 'j12',\n",
              " 13: 'lipstick',\n",
              " 14: 'mascara',\n",
              " 15: 'nail_color',\n",
              " 16: 'no5',\n",
              " 17: 'premiere',\n",
              " 18: 'timeless'}"
            ]
          },
          "execution_count": 12,
          "metadata": {},
          "output_type": "execute_result"
        }
      ],
      "source": [
        "encoder"
      ]
    },
    {
      "cell_type": "code",
      "execution_count": null,
      "metadata": {},
      "outputs": [],
      "source": []
    }
  ],
  "metadata": {
    "accelerator": "GPU",
    "colab": {
      "name": "Pytorch transfer learning tutorial [93%acc].ipynb",
      "provenance": []
    },
    "interpreter": {
      "hash": "1514da5573d7446116e9fb3acff21fc808b0c8a293288e2b325a282fc5fd9f98"
    },
    "kernelspec": {
      "display_name": "Python 3.7.13 ('venv': venv)",
      "language": "python",
      "name": "python3"
    },
    "language_info": {
      "codemirror_mode": {
        "name": "ipython",
        "version": 3
      },
      "file_extension": ".py",
      "mimetype": "text/x-python",
      "name": "python",
      "nbconvert_exporter": "python",
      "pygments_lexer": "ipython3",
      "version": "3.7.13"
    }
  },
  "nbformat": 4,
  "nbformat_minor": 0
}
